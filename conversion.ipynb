{
 "cells": [
  {
   "cell_type": "code",
   "execution_count": 6,
   "metadata": {},
   "outputs": [],
   "source": [
    "import pickle\n",
    "import pandas as pd\n",
    "import numpy as np"
   ]
  },
  {
   "cell_type": "code",
   "execution_count": 7,
   "metadata": {},
   "outputs": [],
   "source": [
    "df = pd.read_csv('hardyards_data.csv')"
   ]
  },
  {
   "cell_type": "code",
   "execution_count": 8,
   "metadata": {},
   "outputs": [],
   "source": [
    "with open('data_pick.pkl', 'wb') as pickle_file:\n",
    "  pickle.dump(df, pickle_file)"
   ]
  },
  {
   "cell_type": "code",
   "execution_count": 9,
   "metadata": {},
   "outputs": [],
   "source": [
    "with open('tesla.pkl', 'rb') as pickle_file:\n",
    "  new_data = pickle.load(pickle_file)"
   ]
  },
  {
   "cell_type": "code",
   "execution_count": 10,
   "metadata": {},
   "outputs": [
    {
     "data": {
      "text/html": [
       "<div>\n",
       "<style scoped>\n",
       "    .dataframe tbody tr th:only-of-type {\n",
       "        vertical-align: middle;\n",
       "    }\n",
       "\n",
       "    .dataframe tbody tr th {\n",
       "        vertical-align: top;\n",
       "    }\n",
       "\n",
       "    .dataframe thead th {\n",
       "        text-align: right;\n",
       "    }\n",
       "</style>\n",
       "<table border=\"1\" class=\"dataframe\">\n",
       "  <thead>\n",
       "    <tr style=\"text-align: right;\">\n",
       "      <th></th>\n",
       "      <th>Topic</th>\n",
       "      <th>Discussion</th>\n",
       "      <th>User</th>\n",
       "      <th>Time</th>\n",
       "    </tr>\n",
       "  </thead>\n",
       "  <tbody>\n",
       "    <tr>\n",
       "      <th>0</th>\n",
       "      <td>Please Read First Before Posting On The Forums</td>\n",
       "      <td>Tesla’s forum provides an online meeting space...</td>\n",
       "      <td>Tesla Ownership</td>\n",
       "      <td>2016-03-13T18:17:38Z</td>\n",
       "    </tr>\n",
       "    <tr>\n",
       "      <th>1</th>\n",
       "      <td>Please Read First Before Posting On The Forums</td>\n",
       "      <td>I order Tesla 3 last night and still have not ...</td>\n",
       "      <td>Ts1diva_98033909</td>\n",
       "      <td>2016-04-01T17:01:04Z</td>\n",
       "    </tr>\n",
       "    <tr>\n",
       "      <th>2</th>\n",
       "      <td>Please Read First Before Posting On The Forums</td>\n",
       "      <td>I was in the same situation. I emailed and got...</td>\n",
       "      <td>heyitsclint_98036105</td>\n",
       "      <td>2016-04-02T05:41:23Z</td>\n",
       "    </tr>\n",
       "    <tr>\n",
       "      <th>3</th>\n",
       "      <td>Please Read First Before Posting On The Forums</td>\n",
       "      <td>Ignore</td>\n",
       "      <td>Bighorn</td>\n",
       "      <td>2016-04-02T16:14:34Z</td>\n",
       "    </tr>\n",
       "    <tr>\n",
       "      <th>4</th>\n",
       "      <td>Please Read First Before Posting On The Forums</td>\n",
       "      <td>Whups, posting allowed! :-). And flagging, app...</td>\n",
       "      <td>NKYTA</td>\n",
       "      <td>2016-04-02T20:47:25Z</td>\n",
       "    </tr>\n",
       "    <tr>\n",
       "      <th>...</th>\n",
       "      <td>...</td>\n",
       "      <td>...</td>\n",
       "      <td>...</td>\n",
       "      <td>...</td>\n",
       "    </tr>\n",
       "    <tr>\n",
       "      <th>134393</th>\n",
       "      <td>Projected resale value after 3, 4 years....</td>\n",
       "      <td>@AWDTesla - thats a bit narrow. The idea is st...</td>\n",
       "      <td>Fuzzball</td>\n",
       "      <td>2020-02-05T14:50:52Z</td>\n",
       "    </tr>\n",
       "    <tr>\n",
       "      <th>134394</th>\n",
       "      <td>Projected resale value after 3, 4 years....</td>\n",
       "      <td>It is not a zero sum game.</td>\n",
       "      <td>Joshan</td>\n",
       "      <td>2020-02-05T14:55:16Z</td>\n",
       "    </tr>\n",
       "    <tr>\n",
       "      <th>134395</th>\n",
       "      <td>Projected resale value after 3, 4 years....</td>\n",
       "      <td>That situation is a narrow, agreed, but that's...</td>\n",
       "      <td>AWDTesla</td>\n",
       "      <td>2020-02-05T14:59:57Z</td>\n",
       "    </tr>\n",
       "    <tr>\n",
       "      <th>134396</th>\n",
       "      <td>Projected resale value after 3, 4 years....</td>\n",
       "      <td>There is no way to really know what is going t...</td>\n",
       "      <td>bjrosen</td>\n",
       "      <td>2020-02-05T15:41:16Z</td>\n",
       "    </tr>\n",
       "    <tr>\n",
       "      <th>134397</th>\n",
       "      <td>Projected resale value after 3, 4 years....</td>\n",
       "      <td>Kelly Blue Book put the value of a Model 3 aft...</td>\n",
       "      <td>roger.klurfeld_98151236</td>\n",
       "      <td>2020-02-05T20:50:07Z</td>\n",
       "    </tr>\n",
       "  </tbody>\n",
       "</table>\n",
       "<p>54335 rows × 4 columns</p>\n",
       "</div>"
      ],
      "text/plain": [
       "                                                 Topic  \\\n",
       "0       Please Read First Before Posting On The Forums   \n",
       "1       Please Read First Before Posting On The Forums   \n",
       "2       Please Read First Before Posting On The Forums   \n",
       "3       Please Read First Before Posting On The Forums   \n",
       "4       Please Read First Before Posting On The Forums   \n",
       "...                                                ...   \n",
       "134393     Projected resale value after 3, 4 years....   \n",
       "134394     Projected resale value after 3, 4 years....   \n",
       "134395     Projected resale value after 3, 4 years....   \n",
       "134396     Projected resale value after 3, 4 years....   \n",
       "134397     Projected resale value after 3, 4 years....   \n",
       "\n",
       "                                               Discussion  \\\n",
       "0       Tesla’s forum provides an online meeting space...   \n",
       "1       I order Tesla 3 last night and still have not ...   \n",
       "2       I was in the same situation. I emailed and got...   \n",
       "3                                                  Ignore   \n",
       "4       Whups, posting allowed! :-). And flagging, app...   \n",
       "...                                                   ...   \n",
       "134393  @AWDTesla - thats a bit narrow. The idea is st...   \n",
       "134394                         It is not a zero sum game.   \n",
       "134395  That situation is a narrow, agreed, but that's...   \n",
       "134396  There is no way to really know what is going t...   \n",
       "134397  Kelly Blue Book put the value of a Model 3 aft...   \n",
       "\n",
       "                           User                  Time  \n",
       "0               Tesla Ownership  2016-03-13T18:17:38Z  \n",
       "1              Ts1diva_98033909  2016-04-01T17:01:04Z  \n",
       "2          heyitsclint_98036105  2016-04-02T05:41:23Z  \n",
       "3                       Bighorn  2016-04-02T16:14:34Z  \n",
       "4                         NKYTA  2016-04-02T20:47:25Z  \n",
       "...                         ...                   ...  \n",
       "134393                 Fuzzball  2020-02-05T14:50:52Z  \n",
       "134394                   Joshan  2020-02-05T14:55:16Z  \n",
       "134395                 AWDTesla  2020-02-05T14:59:57Z  \n",
       "134396                  bjrosen  2020-02-05T15:41:16Z  \n",
       "134397  roger.klurfeld_98151236  2020-02-05T20:50:07Z  \n",
       "\n",
       "[54335 rows x 4 columns]"
      ]
     },
     "execution_count": 10,
     "metadata": {},
     "output_type": "execute_result"
    }
   ],
   "source": [
    "new_data"
   ]
  },
  {
   "cell_type": "code",
   "execution_count": 11,
   "metadata": {},
   "outputs": [],
   "source": [
    "df = pd.DataFrame(new_data)\n",
    "df.to_csv(r'file.csv')"
   ]
  }
 ],
 "metadata": {
  "interpreter": {
   "hash": "aee8b7b246df8f9039afb4144a1f6fd8d2ca17a180786b69acc140d282b71a49"
  },
  "kernelspec": {
   "display_name": "Python 3.9.10 64-bit",
   "language": "python",
   "name": "python3"
  },
  "language_info": {
   "codemirror_mode": {
    "name": "ipython",
    "version": 3
   },
   "file_extension": ".py",
   "mimetype": "text/x-python",
   "name": "python",
   "nbconvert_exporter": "python",
   "pygments_lexer": "ipython3",
   "version": "3.9.10"
  },
  "orig_nbformat": 4
 },
 "nbformat": 4,
 "nbformat_minor": 2
}
